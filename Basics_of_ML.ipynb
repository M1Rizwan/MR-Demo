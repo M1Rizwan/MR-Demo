{
  "cells": [
    {
      "cell_type": "markdown",
      "source": [
        "#Fundamentals\n",
        "In this notebook we saw the key basics of working on Data."
      ],
      "metadata": {
        "id": "yK9uJRtsxy8A"
      }
    },
    {
      "cell_type": "code",
      "execution_count": 17,
      "metadata": {
        "id": "L6HTBUg0Ieag"
      },
      "outputs": [],
      "source": [
        "# Getting important libraries.\n",
        "\n",
        "import pandas as pd\n",
        "import numpy as np\n",
        "import matplotlib.pyplot as plt\n",
        "import seaborn as sns\n"
      ]
    },
    {
      "cell_type": "markdown",
      "source": [
        "#**Outliers**\n",
        "Write a function/ways to find out an outliers:\n"
      ],
      "metadata": {
        "id": "uBbKXllpHUYv"
      }
    },
    {
      "cell_type": "markdown",
      "source": [
        "**Method 1**: Standard Deviation threshold."
      ],
      "metadata": {
        "id": "ME36okiaIkuC"
      }
    },
    {
      "cell_type": "code",
      "execution_count": 60,
      "metadata": {
        "id": "PRDpNrVde-4W"
      },
      "outputs": [],
      "source": [
        "# Mothod-1: Standard Deviation threshold.(if data point is outside of 3 std that would be think as an outlier) /OR/ Using Z-Score.\n",
        "\n",
        "\n",
        "def find_outliers(data):       # Data as a series of integers.\n",
        "  outliers = []\n",
        "  threshold = 3\n",
        "  mean = np.mean(data)\n",
        "  std = np.std(data)\n",
        "\n",
        "  for i in data:\n",
        "    z_score = (i-mean)/std\n",
        "    if np.abs(z_score) > threshold:\n",
        "      outliers.append(i)\n",
        "  return outliers\n",
        "# Call a function with data.\n"
      ]
    },
    {
      "cell_type": "markdown",
      "source": [
        "**Method 2**: Through Inter quartile Range (IQR)"
      ],
      "metadata": {
        "id": "jdR409kERF2t"
      }
    },
    {
      "cell_type": "code",
      "source": [
        "# Method-2: Through IQR Range. Any data point Outside of this range would be treated as an outliers.\n",
        "\n",
        "def check_outliers(dataset):\n",
        "  sorted_data = sorted(dataset)\n",
        "  q1 , q3 = np.percentile(dataset, [25, 75])       # q1,q3 stands for quartile 1 & 3.\n",
        "  iqr = q3 - q1\n",
        "  lower_bound  = q1 - (1.5 * iqr)\n",
        "  upper_fence  = q3 + (1.5 * iqr)\n",
        "\n",
        "  outliers = []\n",
        "  for i in dataset:\n",
        "    if i < lower_bound or i > upper_fence:\n",
        "      outliers.append(i)\n",
        "  return outliers\n",
        ""
      ],
      "metadata": {
        "id": "YxJSbP6O1F0H"
      },
      "execution_count": 122,
      "outputs": []
    },
    {
      "cell_type": "markdown",
      "source": [
        "**Method 3**: Using Box Plot."
      ],
      "metadata": {
        "id": "ADYT0Az7VrBA"
      }
    },
    {
      "cell_type": "code",
      "source": [
        "# Method-3: Using Box Plot, we can visualize outliers.\n",
        "\n",
        "sns.boxplot(data)\n"
      ],
      "metadata": {
        "id": "QO-lhXHUQd0A"
      },
      "execution_count": null,
      "outputs": []
    },
    {
      "cell_type": "code",
      "execution_count": 110,
      "metadata": {
        "id": "7sXgZBu2kDal"
      },
      "outputs": [],
      "source": []
    },
    {
      "cell_type": "code",
      "source": [],
      "metadata": {
        "id": "7WJ5llNZQct2"
      },
      "execution_count": 110,
      "outputs": []
    },
    {
      "cell_type": "code",
      "execution_count": null,
      "metadata": {
        "cellView": "form",
        "id": "du4aMUcuxFTN"
      },
      "outputs": [],
      "source": []
    },
    {
      "cell_type": "code",
      "execution_count": null,
      "metadata": {
        "collapsed": true,
        "id": "JiZ-IdHZ6-HC"
      },
      "outputs": [],
      "source": []
    },
    {
      "cell_type": "code",
      "execution_count": null,
      "metadata": {
        "id": "1-9VjDir7QwI"
      },
      "outputs": [],
      "source": []
    },
    {
      "cell_type": "code",
      "execution_count": null,
      "metadata": {
        "id": "U_091aTqFFi9"
      },
      "outputs": [],
      "source": []
    },
    {
      "cell_type": "code",
      "execution_count": null,
      "metadata": {
        "id": "Nl547SFAF-ya"
      },
      "outputs": [],
      "source": []
    },
    {
      "cell_type": "code",
      "execution_count": null,
      "metadata": {
        "id": "eKzWZ0-7jZQm"
      },
      "outputs": [],
      "source": []
    },
    {
      "cell_type": "code",
      "execution_count": null,
      "metadata": {
        "id": "FiFY47FgrMIe"
      },
      "outputs": [],
      "source": []
    },
    {
      "cell_type": "code",
      "execution_count": null,
      "metadata": {
        "collapsed": true,
        "id": "X3S8A-npF_JP"
      },
      "outputs": [],
      "source": []
    },
    {
      "cell_type": "code",
      "execution_count": null,
      "metadata": {
        "id": "aC0Aw9d0F_O_"
      },
      "outputs": [],
      "source": []
    },
    {
      "cell_type": "code",
      "execution_count": null,
      "metadata": {
        "id": "KCaMO32TF_iz"
      },
      "outputs": [],
      "source": []
    },
    {
      "cell_type": "code",
      "execution_count": null,
      "metadata": {
        "id": "iPewwk8oF_qI"
      },
      "outputs": [],
      "source": []
    }
  ],
  "metadata": {
    "colab": {
      "provenance": []
    },
    "kernelspec": {
      "display_name": "Python 3",
      "name": "python3"
    },
    "language_info": {
      "name": "python"
    }
  },
  "nbformat": 4,
  "nbformat_minor": 0
}